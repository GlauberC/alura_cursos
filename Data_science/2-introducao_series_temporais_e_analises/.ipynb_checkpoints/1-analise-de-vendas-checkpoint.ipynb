{
 "cells": [
  {
   "cell_type": "code",
   "execution_count": 20,
   "metadata": {},
   "outputs": [],
   "source": [
    "import pandas as pd\n",
    "import matplotlib.pyplot as plt"
   ]
  },
  {
   "cell_type": "code",
   "execution_count": 21,
   "metadata": {},
   "outputs": [
    {
     "data": {
      "text/html": [
       "<div>\n",
       "<style scoped>\n",
       "    .dataframe tbody tr th:only-of-type {\n",
       "        vertical-align: middle;\n",
       "    }\n",
       "\n",
       "    .dataframe tbody tr th {\n",
       "        vertical-align: top;\n",
       "    }\n",
       "\n",
       "    .dataframe thead th {\n",
       "        text-align: right;\n",
       "    }\n",
       "</style>\n",
       "<table border=\"1\" class=\"dataframe\">\n",
       "  <thead>\n",
       "    <tr style=\"text-align: right;\">\n",
       "      <th></th>\n",
       "      <th>Mês</th>\n",
       "      <th>Vendas em mil R$</th>\n",
       "    </tr>\n",
       "  </thead>\n",
       "  <tbody>\n",
       "    <tr>\n",
       "      <th>0</th>\n",
       "      <td>1-Jan-2014</td>\n",
       "      <td>10</td>\n",
       "    </tr>\n",
       "    <tr>\n",
       "      <th>1</th>\n",
       "      <td>1-Feb-2014</td>\n",
       "      <td>20</td>\n",
       "    </tr>\n",
       "    <tr>\n",
       "      <th>2</th>\n",
       "      <td>1-Mar-2014</td>\n",
       "      <td>33</td>\n",
       "    </tr>\n",
       "    <tr>\n",
       "      <th>3</th>\n",
       "      <td>1-Apr-2014</td>\n",
       "      <td>47</td>\n",
       "    </tr>\n",
       "    <tr>\n",
       "      <th>4</th>\n",
       "      <td>1-May-2014</td>\n",
       "      <td>63</td>\n",
       "    </tr>\n",
       "  </tbody>\n",
       "</table>\n",
       "</div>"
      ],
      "text/plain": [
       "          Mês  Vendas em mil R$\n",
       "0  1-Jan-2014                10\n",
       "1  1-Feb-2014                20\n",
       "2  1-Mar-2014                33\n",
       "3  1-Apr-2014                47\n",
       "4  1-May-2014                63"
      ]
     },
     "execution_count": 21,
     "metadata": {},
     "output_type": "execute_result"
    }
   ],
   "source": [
    "vendas = pd.read_csv('data/mes-mil-reais.csv', sep = ';')\n",
    "vendas.head()"
   ]
  },
  {
   "cell_type": "markdown",
   "metadata": {},
   "source": [
    "# Tratamento dos dados"
   ]
  },
  {
   "cell_type": "code",
   "execution_count": 22,
   "metadata": {},
   "outputs": [
    {
     "data": {
      "text/html": [
       "<div>\n",
       "<style scoped>\n",
       "    .dataframe tbody tr th:only-of-type {\n",
       "        vertical-align: middle;\n",
       "    }\n",
       "\n",
       "    .dataframe tbody tr th {\n",
       "        vertical-align: top;\n",
       "    }\n",
       "\n",
       "    .dataframe thead th {\n",
       "        text-align: right;\n",
       "    }\n",
       "</style>\n",
       "<table border=\"1\" class=\"dataframe\">\n",
       "  <thead>\n",
       "    <tr style=\"text-align: right;\">\n",
       "      <th></th>\n",
       "      <th>Mês</th>\n",
       "      <th>Vendas em mil R$</th>\n",
       "      <th>mes-tratado1</th>\n",
       "      <th>mes-tratado2</th>\n",
       "    </tr>\n",
       "  </thead>\n",
       "  <tbody>\n",
       "    <tr>\n",
       "      <th>0</th>\n",
       "      <td>1-Jan-2014</td>\n",
       "      <td>10</td>\n",
       "      <td>Jan-2014</td>\n",
       "      <td>Jan-14</td>\n",
       "    </tr>\n",
       "    <tr>\n",
       "      <th>1</th>\n",
       "      <td>1-Feb-2014</td>\n",
       "      <td>20</td>\n",
       "      <td>Feb-2014</td>\n",
       "      <td>Feb-14</td>\n",
       "    </tr>\n",
       "    <tr>\n",
       "      <th>2</th>\n",
       "      <td>1-Mar-2014</td>\n",
       "      <td>33</td>\n",
       "      <td>Mar-2014</td>\n",
       "      <td>Mar-14</td>\n",
       "    </tr>\n",
       "    <tr>\n",
       "      <th>3</th>\n",
       "      <td>1-Apr-2014</td>\n",
       "      <td>47</td>\n",
       "      <td>Apr-2014</td>\n",
       "      <td>Apr-14</td>\n",
       "    </tr>\n",
       "    <tr>\n",
       "      <th>4</th>\n",
       "      <td>1-May-2014</td>\n",
       "      <td>63</td>\n",
       "      <td>May-2014</td>\n",
       "      <td>May-14</td>\n",
       "    </tr>\n",
       "  </tbody>\n",
       "</table>\n",
       "</div>"
      ],
      "text/plain": [
       "          Mês  Vendas em mil R$ mes-tratado1 mes-tratado2\n",
       "0  1-Jan-2014                10     Jan-2014       Jan-14\n",
       "1  1-Feb-2014                20     Feb-2014       Feb-14\n",
       "2  1-Mar-2014                33     Mar-2014       Mar-14\n",
       "3  1-Apr-2014                47     Apr-2014       Apr-14\n",
       "4  1-May-2014                63     May-2014       May-14"
      ]
     },
     "execution_count": 22,
     "metadata": {},
     "output_type": "execute_result"
    }
   ],
   "source": [
    "vendas['mes-tratado1'] = list(map(lambda mes : mes.replace('1-', ''), vendas['Mês']))\n",
    "vendas['mes-tratado2'] = list(map(lambda mes : mes.replace('20', ''), vendas['mes-tratado1']))\n",
    "vendas.head()\n"
   ]
  },
  {
   "cell_type": "code",
   "execution_count": 23,
   "metadata": {},
   "outputs": [
    {
     "data": {
      "text/html": [
       "<div>\n",
       "<style scoped>\n",
       "    .dataframe tbody tr th:only-of-type {\n",
       "        vertical-align: middle;\n",
       "    }\n",
       "\n",
       "    .dataframe tbody tr th {\n",
       "        vertical-align: top;\n",
       "    }\n",
       "\n",
       "    .dataframe thead th {\n",
       "        text-align: right;\n",
       "    }\n",
       "</style>\n",
       "<table border=\"1\" class=\"dataframe\">\n",
       "  <thead>\n",
       "    <tr style=\"text-align: right;\">\n",
       "      <th></th>\n",
       "      <th>Mês</th>\n",
       "      <th>Vendas em mil R$</th>\n",
       "      <th>mes-tratado1</th>\n",
       "      <th>mes-tratado2</th>\n",
       "      <th>mes-tratado3</th>\n",
       "    </tr>\n",
       "  </thead>\n",
       "  <tbody>\n",
       "    <tr>\n",
       "      <th>0</th>\n",
       "      <td>1-Jan-2014</td>\n",
       "      <td>10</td>\n",
       "      <td>Jan-2014</td>\n",
       "      <td>Jan-14</td>\n",
       "      <td>01/14</td>\n",
       "    </tr>\n",
       "    <tr>\n",
       "      <th>1</th>\n",
       "      <td>1-Feb-2014</td>\n",
       "      <td>20</td>\n",
       "      <td>Feb-2014</td>\n",
       "      <td>Feb-14</td>\n",
       "      <td>02/14</td>\n",
       "    </tr>\n",
       "    <tr>\n",
       "      <th>2</th>\n",
       "      <td>1-Mar-2014</td>\n",
       "      <td>33</td>\n",
       "      <td>Mar-2014</td>\n",
       "      <td>Mar-14</td>\n",
       "      <td>03/14</td>\n",
       "    </tr>\n",
       "    <tr>\n",
       "      <th>3</th>\n",
       "      <td>1-Apr-2014</td>\n",
       "      <td>47</td>\n",
       "      <td>Apr-2014</td>\n",
       "      <td>Apr-14</td>\n",
       "      <td>04/14</td>\n",
       "    </tr>\n",
       "    <tr>\n",
       "      <th>4</th>\n",
       "      <td>1-May-2014</td>\n",
       "      <td>63</td>\n",
       "      <td>May-2014</td>\n",
       "      <td>May-14</td>\n",
       "      <td>05/14</td>\n",
       "    </tr>\n",
       "  </tbody>\n",
       "</table>\n",
       "</div>"
      ],
      "text/plain": [
       "          Mês  Vendas em mil R$ mes-tratado1 mes-tratado2 mes-tratado3\n",
       "0  1-Jan-2014                10     Jan-2014       Jan-14        01/14\n",
       "1  1-Feb-2014                20     Feb-2014       Feb-14        02/14\n",
       "2  1-Mar-2014                33     Mar-2014       Mar-14        03/14\n",
       "3  1-Apr-2014                47     Apr-2014       Apr-14        04/14\n",
       "4  1-May-2014                63     May-2014       May-14        05/14"
      ]
     },
     "execution_count": 23,
     "metadata": {},
     "output_type": "execute_result"
    }
   ],
   "source": [
    "def month_to_number(month):\n",
    "    sepMes = month.split('-')\n",
    "    num = ('01' if sepMes[0] == 'Jan' else\n",
    "           '02' if sepMes[0] == 'Feb' else\n",
    "           '03' if sepMes[0] == 'Mar' else\n",
    "           '04' if sepMes[0] == 'Apr' else\n",
    "           '05' if sepMes[0] == 'May' else\n",
    "           '06' if sepMes[0] == 'Jun' else\n",
    "           '07' if sepMes[0] == 'Jul' else\n",
    "           '08' if sepMes[0] == 'Aug' else\n",
    "           '09' if sepMes[0] == 'Sep' else\n",
    "           '10' if sepMes[0] == 'Oct' else\n",
    "           '11' if sepMes[0] == 'Nov' else '12'\n",
    "          )\n",
    "    return num + '/' + sepMes[1]\n",
    "\n",
    "vendas['mes-tratado3'] = list(map(lambda mes : month_to_number(mes), vendas['mes-tratado2']))\n",
    "\n",
    "vendas.head()"
   ]
  },
  {
   "cell_type": "markdown",
   "metadata": {},
   "source": [
    "# Plot das vendas de produtos em mil reais por mês"
   ]
  },
  {
   "cell_type": "code",
   "execution_count": 24,
   "metadata": {},
   "outputs": [
    {
     "data": {
      "text/plain": [
       "[<matplotlib.lines.Line2D at 0x7fc341af14a8>]"
      ]
     },
     "execution_count": 24,
     "metadata": {},
     "output_type": "execute_result"
    },
    {
     "data": {
      "image/png": "[encoded data removed]",
      "text/plain": [
       "<Figure size 1440x720 with 1 Axes>"
      ]
     },
     "metadata": {
      "needs_background": "light"
     },
     "output_type": "display_data"
    }
   ],
   "source": [
    "plt.rc('figure',figsize = (20,10) )\n",
    "plt.title('Venda de produtos em mil reais por mês')\n",
    "plt.xlabel('Tempo')\n",
    "plt.ylabel('Venda de produtos em mil reais')\n",
    "plt.plot(vendas['mes-tratado3'], vendas['Vendas em mil R$'])\n"
   ]
  },
  {
   "cell_type": "markdown",
   "metadata": {},
   "source": [
    "# Aumento das vendas por mes"
   ]
  },
  {
   "cell_type": "code",
   "execution_count": 25,
   "metadata": {},
   "outputs": [
    {
     "data": {
      "text/html": [
       "<div>\n",
       "<style scoped>\n",
       "    .dataframe tbody tr th:only-of-type {\n",
       "        vertical-align: middle;\n",
       "    }\n",
       "\n",
       "    .dataframe tbody tr th {\n",
       "        vertical-align: top;\n",
       "    }\n",
       "\n",
       "    .dataframe thead th {\n",
       "        text-align: right;\n",
       "    }\n",
       "</style>\n",
       "<table border=\"1\" class=\"dataframe\">\n",
       "  <thead>\n",
       "    <tr style=\"text-align: right;\">\n",
       "      <th></th>\n",
       "      <th>Mês</th>\n",
       "      <th>Vendas em mil R$</th>\n",
       "      <th>mes-tratado1</th>\n",
       "      <th>mes-tratado2</th>\n",
       "      <th>mes-tratado3</th>\n",
       "      <th>Aumento das Vendas</th>\n",
       "    </tr>\n",
       "  </thead>\n",
       "  <tbody>\n",
       "    <tr>\n",
       "      <th>19</th>\n",
       "      <td>1-Aug-2015</td>\n",
       "      <td>527</td>\n",
       "      <td>Aug-2015</td>\n",
       "      <td>Aug-15</td>\n",
       "      <td>08/15</td>\n",
       "      <td>46</td>\n",
       "    </tr>\n",
       "    <tr>\n",
       "      <th>20</th>\n",
       "      <td>1-Sep-2015</td>\n",
       "      <td>573</td>\n",
       "      <td>Sep-2015</td>\n",
       "      <td>Sep-15</td>\n",
       "      <td>09/15</td>\n",
       "      <td>48</td>\n",
       "    </tr>\n",
       "    <tr>\n",
       "      <th>21</th>\n",
       "      <td>1-Oct-2015</td>\n",
       "      <td>621</td>\n",
       "      <td>Oct-2015</td>\n",
       "      <td>Oct-15</td>\n",
       "      <td>10/15</td>\n",
       "      <td>49</td>\n",
       "    </tr>\n",
       "    <tr>\n",
       "      <th>22</th>\n",
       "      <td>1-Nov-2015</td>\n",
       "      <td>670</td>\n",
       "      <td>Nov-2015</td>\n",
       "      <td>Nov-15</td>\n",
       "      <td>11/15</td>\n",
       "      <td>51</td>\n",
       "    </tr>\n",
       "    <tr>\n",
       "      <th>23</th>\n",
       "      <td>1-Dec-2015</td>\n",
       "      <td>721</td>\n",
       "      <td>Dec-2015</td>\n",
       "      <td>Dec-15</td>\n",
       "      <td>12/15</td>\n",
       "      <td>none</td>\n",
       "    </tr>\n",
       "  </tbody>\n",
       "</table>\n",
       "</div>"
      ],
      "text/plain": [
       "           Mês  Vendas em mil R$ mes-tratado1 mes-tratado2 mes-tratado3  \\\n",
       "19  1-Aug-2015               527     Aug-2015       Aug-15        08/15   \n",
       "20  1-Sep-2015               573     Sep-2015       Sep-15        09/15   \n",
       "21  1-Oct-2015               621     Oct-2015       Oct-15        10/15   \n",
       "22  1-Nov-2015               670     Nov-2015       Nov-15        11/15   \n",
       "23  1-Dec-2015               721     Dec-2015       Dec-15        12/15   \n",
       "\n",
       "   Aumento das Vendas  \n",
       "19                 46  \n",
       "20                 48  \n",
       "21                 49  \n",
       "22                 51  \n",
       "23               none  "
      ]
     },
     "execution_count": 25,
     "metadata": {},
     "output_type": "execute_result"
    }
   ],
   "source": [
    "aumento_vendas = []\n",
    "for i in range( len( vendas['Vendas em mil R$'] ) - 1 ):\n",
    "    aumento_vendas.append((vendas['Vendas em mil R$'][i+1] - vendas['Vendas em mil R$'][i] ))\n",
    "aumento_vendas.append('none')\n",
    "vendas['Aumento das Vendas'] = aumento_vendas\n",
    "vendas.tail()"
   ]
  },
  {
   "cell_type": "code",
   "execution_count": 26,
   "metadata": {},
   "outputs": [
    {
     "data": {
      "text/plain": [
       "[<matplotlib.lines.Line2D at 0x7fc340880080>]"
      ]
     },
     "execution_count": 26,
     "metadata": {},
     "output_type": "execute_result"
    },
    {
     "data": {
      "image/png": "[encoded data removed]",
      "text/plain": [
       "<Figure size 1440x720 with 1 Axes>"
      ]
     },
     "metadata": {
      "needs_background": "light"
     },
     "output_type": "display_data"
    }
   ],
   "source": [
    "plt.rc('figure', figsize = (20, 10))\n",
    "plt.title('Aumento das vendas por mês')\n",
    "plt.xlabel('Tempo')\n",
    "plt.ylabel('Aumento das vendas por mês')\n",
    "plt.plot(vendas['mes-tratado3'][:-1], vendas['Aumento das Vendas'][:-1])"
   ]
  },
  {
   "cell_type": "markdown",
   "metadata": {},
   "source": [
    "# Aceleração das vendas"
   ]
  },
  {
   "cell_type": "code",
   "execution_count": 27,
   "metadata": {},
   "outputs": [
    {
     "ename": "TypeError",
     "evalue": "ufunc 'subtract' did not contain a loop with signature matching types dtype('<U21') dtype('<U21') dtype('<U21')",
     "output_type": "error",
     "traceback": [
      "\u001b[0;31m---------------------------------------------------------------------------\u001b[0m",
      "\u001b[0;31mTypeError\u001b[0m                                 Traceback (most recent call last)",
      "\u001b[0;32m<ipython-input-27-ecbd8bc27e93>\u001b[0m in \u001b[0;36m<module>\u001b[0;34m\u001b[0m\n\u001b[1;32m      1\u001b[0m \u001b[0maceleracao_vendas\u001b[0m \u001b[0;34m=\u001b[0m \u001b[0;34m[\u001b[0m\u001b[0;34m]\u001b[0m\u001b[0;34m\u001b[0m\u001b[0;34m\u001b[0m\u001b[0m\n\u001b[1;32m      2\u001b[0m \u001b[0;32mfor\u001b[0m \u001b[0mi\u001b[0m \u001b[0;32min\u001b[0m \u001b[0mrange\u001b[0m\u001b[0;34m(\u001b[0m \u001b[0mlen\u001b[0m\u001b[0;34m(\u001b[0m \u001b[0mvendas\u001b[0m\u001b[0;34m[\u001b[0m\u001b[0;34m'Aumento das Vendas'\u001b[0m\u001b[0;34m]\u001b[0m \u001b[0;34m)\u001b[0m \u001b[0;34m-\u001b[0m \u001b[0;36m1\u001b[0m \u001b[0;34m)\u001b[0m\u001b[0;34m:\u001b[0m\u001b[0;34m\u001b[0m\u001b[0;34m\u001b[0m\u001b[0m\n\u001b[0;32m----> 3\u001b[0;31m     \u001b[0maceleracao_vendas\u001b[0m\u001b[0;34m.\u001b[0m\u001b[0mappend\u001b[0m\u001b[0;34m(\u001b[0m\u001b[0;34m(\u001b[0m\u001b[0mvendas\u001b[0m\u001b[0;34m[\u001b[0m\u001b[0;34m'Aumento das Vendas'\u001b[0m\u001b[0;34m]\u001b[0m\u001b[0;34m[\u001b[0m\u001b[0mi\u001b[0m\u001b[0;34m+\u001b[0m\u001b[0;36m1\u001b[0m\u001b[0;34m]\u001b[0m \u001b[0;34m-\u001b[0m \u001b[0mvendas\u001b[0m\u001b[0;34m[\u001b[0m\u001b[0;34m'Aumento das Vendas'\u001b[0m\u001b[0;34m]\u001b[0m\u001b[0;34m[\u001b[0m\u001b[0mi\u001b[0m\u001b[0;34m]\u001b[0m \u001b[0;34m)\u001b[0m\u001b[0;34m)\u001b[0m\u001b[0;34m\u001b[0m\u001b[0;34m\u001b[0m\u001b[0m\n\u001b[0m\u001b[1;32m      4\u001b[0m \u001b[0maceleracao_vendas\u001b[0m\u001b[0;34m.\u001b[0m\u001b[0mappend\u001b[0m\u001b[0;34m(\u001b[0m\u001b[0;34m'none'\u001b[0m\u001b[0;34m)\u001b[0m\u001b[0;34m\u001b[0m\u001b[0;34m\u001b[0m\u001b[0m\n\u001b[1;32m      5\u001b[0m \u001b[0mvendas\u001b[0m\u001b[0;34m[\u001b[0m\u001b[0;34m'Aceleracao das Vendas'\u001b[0m\u001b[0;34m]\u001b[0m \u001b[0;34m=\u001b[0m \u001b[0maceleracao_vendas\u001b[0m\u001b[0;34m\u001b[0m\u001b[0;34m\u001b[0m\u001b[0m\n",
      "\u001b[0;31mTypeError\u001b[0m: ufunc 'subtract' did not contain a loop with signature matching types dtype('<U21') dtype('<U21') dtype('<U21')"
     ]
    }
   ],
   "source": [
    "aceleracao_vendas = []\n",
    "for i in range( len( vendas['Aumento das Vendas'] ) - 1 ):\n",
    "    aceleracao_vendas.append((vendas['Aumento das Vendas'][i+1] - vendas['Aumento das Vendas'][i] ))\n",
    "aceleracao_vendas.append('none')\n",
    "vendas['Aceleracao das Vendas'] = aceleracao_vendas\n",
    "vendas.tail()"
   ]
  },
  {
   "cell_type": "code",
   "execution_count": null,
   "metadata": {},
   "outputs": [],
   "source": []
  }
 ],
 "metadata": {
  "kernelspec": {
   "display_name": "Python 3",
   "language": "python",
   "name": "python3"
  },
  "language_info": {
   "codemirror_mode": {
    "name": "ipython",
    "version": 3
   },
   "file_extension": ".py",
   "mimetype": "text/x-python",
   "name": "python",
   "nbconvert_exporter": "python",
   "pygments_lexer": "ipython3",
   "version": "3.7.1"
  }
 },
 "nbformat": 4,
 "nbformat_minor": 2
}
